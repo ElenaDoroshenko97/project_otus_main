{
 "cells": [
  {
   "cell_type": "code",
   "execution_count": 2,
   "id": "467ac013",
   "metadata": {},
   "outputs": [],
   "source": [
    "import psycopg2\n",
    "\n"
   ]
  },
  {
   "cell_type": "code",
   "execution_count": 7,
   "id": "9d58a641",
   "metadata": {},
   "outputs": [
    {
     "name": "stdout",
     "output_type": "stream",
     "text": [
      "Database opened successfully\n"
     ]
    }
   ],
   "source": [
    "con = psycopg2.connect(\n",
    "  database=\"postgres\", \n",
    "  user=\"postgres\", \n",
    "  password=\"postgres\", \n",
    "  host=\"localhost\", \n",
    "  port=\"5432\"\n",
    ")\n",
    "\n",
    "print(\"Database opened successfully\")\n",
    "cur = con.cursor()  "
   ]
  },
  {
   "cell_type": "code",
   "execution_count": 8,
   "id": "1e73ab60",
   "metadata": {},
   "outputs": [
    {
     "name": "stdout",
     "output_type": "stream",
     "text": [
      "Table insert successfully\n"
     ]
    }
   ],
   "source": [
    "\n",
    "cur.execute('''insert into proj.test1 select 222;''')\n",
    "\n",
    "print(\"Table insert successfully\")\n",
    "con.commit()  \n",
    "con.close()"
   ]
  }
 ],
 "metadata": {
  "kernelspec": {
   "display_name": "Python 3 (ipykernel)",
   "language": "python",
   "name": "python3"
  },
  "language_info": {
   "codemirror_mode": {
    "name": "ipython",
    "version": 3
   },
   "file_extension": ".py",
   "mimetype": "text/x-python",
   "name": "python",
   "nbconvert_exporter": "python",
   "pygments_lexer": "ipython3",
   "version": "3.8.6"
  }
 },
 "nbformat": 4,
 "nbformat_minor": 5
}
