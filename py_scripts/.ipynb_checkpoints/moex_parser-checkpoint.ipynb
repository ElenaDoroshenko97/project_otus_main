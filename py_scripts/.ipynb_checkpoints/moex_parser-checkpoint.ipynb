{
 "cells": [
  {
   "cell_type": "code",
   "execution_count": 301,
   "id": "8c356eee",
   "metadata": {
    "scrolled": true
   },
   "outputs": [],
   "source": [
    "# response.status_code\n",
    "# response.content"
   ]
  },
  {
   "cell_type": "code",
   "execution_count": 65,
   "id": "354ec724",
   "metadata": {},
   "outputs": [],
   "source": [
    "import json\n",
    "import requests\n",
    "import pandas as pd\n",
    "import psycopg2\n",
    "from pandas import json_normalize\n",
    "from sqlalchemy import create_engine\n",
    "    \n",
    "def prcImportFromMoex(dateStart,dateEnd):\n",
    "    global i, imax, dfful\n",
    "    print ('Start procedure prcImportFromMoex on i = '+str(i)+' - dates: '+ dateStart+' - '+dateEnd+' ...')\n",
    "\n",
    "    \n",
    "    url = 'https://iss.moex.com/iss/history/engines/stock/markets/index/securities/WHFOB.jsonp?from='+dateStart+'&till='+dateEnd+'&limit=10000&sort_order=TRADEDATE&sort_order_desc=desc&iss.meta=off&iss.json=extended'\n",
    "    #print ('url = '+ url)\n",
    "\n",
    "    fname=\"dop_files/wheat_msk.json\"\n",
    "    response = requests.get(url)\n",
    "\n",
    "    #запись в файл\n",
    "    with open(fname, \"wb\") as f:\n",
    "        f.write(response.content)\n",
    "    f.close()\n",
    "\n",
    "    #чтение из файл и обработка переноса строки и ещё первой строки\n",
    "    text=''\n",
    "    with open(fname, \"r\", encoding='utf-8') as f:\n",
    "        for line in f:\n",
    "            line=line.strip()\n",
    "            line=line.replace('{\"charsetinfo\": {\"name\": \"utf-8\"}},','')\n",
    "            text=text+line.strip()\n",
    "\n",
    "    text=text[1:len(text)-1]\n",
    "   \n",
    "    text = json.loads(text)\n",
    "    df = json_normalize(text,'history')    \n",
    "                \n",
    "    if i==1:\n",
    "        print('Init dfful...')\n",
    "        dfful=df  \n",
    "    else: \n",
    "        print('Adding df to dfful...')\n",
    "        dfful=pd.concat([dfful, df])\n",
    "\n",
    "    if i==imax:\n",
    "        print ('Creating csv file for dataframe...')\n",
    "        dfful.to_csv('../project_otus_dbt/data/source_wheat_msk.csv',index=False)\n",
    "        \n",
    "    print ('End procedure prcImportFromMoex success')\n",
    "    i=i+1\n",
    "    "
   ]
  },
  {
   "cell_type": "code",
   "execution_count": 66,
   "id": "d7e29086",
   "metadata": {},
   "outputs": [
    {
     "name": "stdout",
     "output_type": "stream",
     "text": [
      "Start procedure prcImportFromMoex on i = 1 - dates: 2021-03-22 - 2021-06-01 ...\n",
      "Init dfful...\n",
      "End procedure prcImportFromMoex success\n",
      "Start procedure prcImportFromMoex on i = 2 - dates: 2021-06-02 - 2021-09-01 ...\n",
      "Adding df to dfful...\n",
      "End procedure prcImportFromMoex success\n",
      "Start procedure prcImportFromMoex on i = 3 - dates: 2021-09-02 - 2021-12-01 ...\n",
      "Adding df to dfful...\n",
      "End procedure prcImportFromMoex success\n",
      "Start procedure prcImportFromMoex on i = 4 - dates: 2021-12-02 - 2022-02-07 ...\n",
      "Adding df to dfful...\n",
      "Creating csv file for dataframe...\n",
      "End procedure prcImportFromMoex success\n",
      "End all success\n"
     ]
    }
   ],
   "source": [
    "#init\n",
    "i=1\n",
    "imax=1\n",
    "\n",
    "#exec procedure \n",
    "prcImportFromMoex(dateStart='2021-12-02',dateEnd='2022-02-07') \n",
    "\n",
    "\n",
    "print ('End all success')"
   ]
  }
 ],
 "metadata": {
  "kernelspec": {
   "display_name": "Python 3 (ipykernel)",
   "language": "python",
   "name": "python3"
  },
  "language_info": {
   "codemirror_mode": {
    "name": "ipython",
    "version": 3
   },
   "file_extension": ".py",
   "mimetype": "text/x-python",
   "name": "python",
   "nbconvert_exporter": "python",
   "pygments_lexer": "ipython3",
   "version": "3.8.10"
  }
 },
 "nbformat": 4,
 "nbformat_minor": 5
}
