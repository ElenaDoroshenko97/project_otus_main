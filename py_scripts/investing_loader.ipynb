{
 "cells": [
  {
   "cell_type": "code",
   "execution_count": 2,
   "id": "99920d79",
   "metadata": {},
   "outputs": [],
   "source": [
    "import pandas as pd\n",
    "\n",
    "def prcChangeColumnName(source_type):\n",
    "    print('Start procedure prcChangeColumnName with source_type = '+ source_type)\n",
    "    \n",
    "    dict={\n",
    "        'usa': 'source_wheat_usa.csv',    #USA\n",
    "        'gbp': 'source_wheat_gbp.csv',    #London\n",
    "        'msk': 'source_wheat_msk.csv',    #Moscow\n",
    "        'gbp_usd': 'source_rate_gbp_usd.csv'   #Exchange rate: gbp -> usd\n",
    "    }\n",
    "    fname=dict.get(source_type)\n",
    "\n",
    "    df = pd.read_csv('dop_files/'+dict.get(source_type), encoding='utf-8',skip_blank_lines=True, on_bad_lines='skip')\n",
    "    #print (df.head(3))\n",
    "\n",
    "    df=df.rename(columns={'Дата' : 'TRADEDATE', 'Цена': 'PRICE', 'Откр.': 'OPEN', 'Макс.': 'HIGH', 'Мин.': 'LOW', 'Объём': 'VOLUME', \"Изм. %\" :'CHANGEPERC'})\n",
    "    #print (df.head(3))\n",
    "\n",
    "    df.to_csv('../project_otus_dbt/data/'+dict.get(source_type),index=False)\n",
    "    \n",
    "    print('End procedure success')"
   ]
  },
  {
   "cell_type": "code",
   "execution_count": 3,
   "id": "cd5258ff",
   "metadata": {},
   "outputs": [
    {
     "name": "stdout",
     "output_type": "stream",
     "text": [
      "Start procedure prcChangeColumnName with source_type = gbp\n",
      "End procedure success\n"
     ]
    }
   ],
   "source": [
    "#exec procedure \n",
    "\n",
    "# prcChangeColumnName(source_type='gbp_usd')\n",
    "# prcChangeColumnName(source_type='usa')\n",
    "prcChangeColumnName(source_type='gbp')"
   ]
  }
 ],
 "metadata": {
  "kernelspec": {
   "display_name": "Python 3 (ipykernel)",
   "language": "python",
   "name": "python3"
  },
  "language_info": {
   "codemirror_mode": {
    "name": "ipython",
    "version": 3
   },
   "file_extension": ".py",
   "mimetype": "text/x-python",
   "name": "python",
   "nbconvert_exporter": "python",
   "pygments_lexer": "ipython3",
   "version": "3.8.10"
  }
 },
 "nbformat": 4,
 "nbformat_minor": 5
}
